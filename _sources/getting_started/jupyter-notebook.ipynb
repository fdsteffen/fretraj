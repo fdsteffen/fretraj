{
 "cells": [
  {
   "cell_type": "markdown",
   "id": "3450cbc6",
   "metadata": {},
   "source": [
    "# *FRETraj* and Jupyter\n",
    "\n",
    "This notebook demonstrates how to interface *FRETraj* with Jupyter. We will\n",
    "compute **ACVs** for the same DNA hairpin as in the previous PyMOL example and\n",
    "predict a **mean FRET efficiency** between donor and acceptor."
   ]
  },
  {
   "cell_type": "code",
   "execution_count": 1,
   "id": "8403e04e",
   "metadata": {},
   "outputs": [
    {
     "ename": "ModuleNotFoundError",
     "evalue": "No module named 'fretraj'",
     "output_type": "error",
     "traceback": [
      "\u001b[0;31m---------------------------------------------------------------------------\u001b[0m",
      "\u001b[0;31mModuleNotFoundError\u001b[0m                       Traceback (most recent call last)",
      "\u001b[0;32m<ipython-input-1-87c6269e5a3a>\u001b[0m in \u001b[0;36m<module>\u001b[0;34m\u001b[0m\n\u001b[1;32m      1\u001b[0m \u001b[0;32mimport\u001b[0m \u001b[0mmdtraj\u001b[0m \u001b[0;32mas\u001b[0m \u001b[0mmd\u001b[0m\u001b[0;34m\u001b[0m\u001b[0;34m\u001b[0m\u001b[0m\n\u001b[0;32m----> 2\u001b[0;31m \u001b[0;32mimport\u001b[0m \u001b[0mfretraj\u001b[0m \u001b[0;32mas\u001b[0m \u001b[0mft\u001b[0m\u001b[0;34m\u001b[0m\u001b[0;34m\u001b[0m\u001b[0m\n\u001b[0m\u001b[1;32m      3\u001b[0m \u001b[0;32mimport\u001b[0m \u001b[0mos\u001b[0m\u001b[0;34m\u001b[0m\u001b[0;34m\u001b[0m\u001b[0m\n\u001b[1;32m      4\u001b[0m \u001b[0mexample_dir\u001b[0m \u001b[0;34m=\u001b[0m \u001b[0;34m'../../src/fretraj/examples/'\u001b[0m\u001b[0;34m\u001b[0m\u001b[0;34m\u001b[0m\u001b[0m\n",
      "\u001b[0;31mModuleNotFoundError\u001b[0m: No module named 'fretraj'"
     ]
    }
   ],
   "source": [
    "import mdtraj as md\n",
    "import fretraj as ft\n",
    "import os\n",
    "example_dir = '../../src/fretraj/examples/'"
   ]
  },
  {
   "cell_type": "markdown",
   "id": "8d378487",
   "metadata": {},
   "source": [
    "Let's first load a PDB file of a DNA."
   ]
  },
  {
   "cell_type": "code",
   "execution_count": null,
   "id": "d793a67e",
   "metadata": {},
   "outputs": [],
   "source": [
    "struct = md.load(os.path.join(example_dir+'DNA_hairpin.pdb'))"
   ]
  },
  {
   "cell_type": "markdown",
   "id": "a448195a",
   "metadata": {},
   "source": [
    "Next, we load a [parameter file](../background/parameter_file) specifying the positions of the donor and acceptor labels."
   ]
  },
  {
   "cell_type": "code",
   "execution_count": null,
   "id": "5ba724b9",
   "metadata": {
    "tags": [
     "hide-output"
    ]
   },
   "outputs": [],
   "source": [
    "labels = ft.cloud.labeling_params(os.path.join(example_dir+'DNA_hairpin_labels.json'), verbose=False)\n",
    "labels"
   ]
  },
  {
   "cell_type": "markdown",
   "id": "82544a4a",
   "metadata": {},
   "source": [
    "We now calculate an ACV for the donor (`Cy3-20-C5`) and acceptor (`Cy5-44-P1`) position."
   ]
  },
  {
   "cell_type": "code",
   "execution_count": null,
   "id": "f2429574",
   "metadata": {},
   "outputs": [],
   "source": [
    "acv_D = ft.cloud.Volume(struct, 'Cy3-20-C5', labels)\n",
    "acv_A = ft.cloud.Volume(struct, 'Cy5-44-P1', labels)"
   ]
  },
  {
   "cell_type": "markdown",
   "id": "58fed634",
   "metadata": {},
   "source": [
    "The transfer efficiency is calculated by randomly sampling distances between the two ACVs."
   ]
  },
  {
   "cell_type": "code",
   "execution_count": null,
   "id": "54893e78",
   "metadata": {},
   "outputs": [],
   "source": [
    "fret = ft.cloud.FRET(acv_D, acv_A, 'Cy3-Cy5', labels)\n",
    "fret.values"
   ]
  },
  {
   "cell_type": "markdown",
   "id": "a14a02c6",
   "metadata": {},
   "source": [
    "Visualize the ACV together with the DNA directly in the notebook."
   ]
  },
  {
   "cell_type": "code",
   "execution_count": null,
   "id": "9915caf4",
   "metadata": {
    "tags": [
     "remove-output"
    ]
   },
   "outputs": [],
   "source": [
    "acv_D_traj = ft.cloud.create_acv_traj([acv_D])\n",
    "acv_A_traj = ft.cloud.create_acv_traj([acv_A])\n",
    "ft.jupyter.nglview_trajectory_ACV(struct, acv_D_traj['FV'], acv_A_traj['FV'], \n",
    "                                          acv_D_traj['CV'], acv_A_traj['CV'])"
   ]
  },
  {
   "cell_type": "markdown",
   "id": "721a9b4c",
   "metadata": {},
   "source": [
    "```{hint}\n",
    "To see this notebook in action launch a **Binder** instance by clicking on the 🚀 at the top of the page.\n",
    "```"
   ]
  }
 ],
 "metadata": {
  "jupytext": {
   "formats": "ipynb,md:myst",
   "text_representation": {
    "extension": ".md",
    "format_name": "myst",
    "format_version": 0.12,
    "jupytext_version": "1.8.2"
   }
  },
  "kernelspec": {
   "display_name": "Python 3",
   "language": "python",
   "name": "python3"
  },
  "language_info": {
   "codemirror_mode": {
    "name": "ipython",
    "version": 3
   },
   "file_extension": ".py",
   "mimetype": "text/x-python",
   "name": "python",
   "nbconvert_exporter": "python",
   "pygments_lexer": "ipython3",
   "version": "3.9.6"
  },
  "source_map": [
   13,
   21,
   26,
   31,
   33,
   37,
   41,
   45,
   48,
   52,
   55,
   59,
   65
  ]
 },
 "nbformat": 4,
 "nbformat_minor": 5
}
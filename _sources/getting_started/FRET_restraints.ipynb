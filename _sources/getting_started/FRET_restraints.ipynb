{
 "cells": [
  {
   "cell_type": "markdown",
   "id": "received-sewing",
   "metadata": {},
   "source": [
    "# Introducing FRET restraints"
   ]
  },
  {
   "cell_type": "code",
   "execution_count": 1,
   "id": "naval-hamilton",
   "metadata": {},
   "outputs": [
    {
     "name": "stdout",
     "output_type": "stream",
     "text": [
      "\n",
      "Note: the LabelLib module is not installed. \n",
      "ACV calculations will use a Python-only algorithm\n",
      "\n"
     ]
    },
    {
     "data": {
      "application/vnd.jupyter.widget-view+json": {
       "model_id": "50779075f4774987a61a77d3d210a57e",
       "version_major": 2,
       "version_minor": 0
      },
      "text/plain": []
     },
     "metadata": {},
     "output_type": "display_data"
    }
   ],
   "source": [
    "import numpy as np\n",
    "from matplotlib import pyplot as plt\n",
    "import pandas as pd\n",
    "import mdtraj as md\n",
    "import fretraj as ft"
   ]
  },
  {
   "cell_type": "code",
   "execution_count": 2,
   "id": "future-bottle",
   "metadata": {},
   "outputs": [],
   "source": [
    "import importlib"
   ]
  },
  {
   "cell_type": "markdown",
   "id": "acute-seafood",
   "metadata": {},
   "source": [
    "### Accessible contact volume\n",
    "\n",
    "Calculate ACVs for donor and acceptor dye on an **solvated and energy minimized** biomolecule.\n",
    "> Note: the generated .gro file must first be converted to a .pdb file using `gmx trjconv`"
   ]
  },
  {
   "cell_type": "code",
   "execution_count": 3,
   "id": "elect-nancy",
   "metadata": {},
   "outputs": [],
   "source": [
    "labels = ft.cloud.labeling_params('gmx/mn_riboswitch_labels.json', verbose=False)"
   ]
  },
  {
   "cell_type": "code",
   "execution_count": 4,
   "id": "speaking-appliance",
   "metadata": {},
   "outputs": [],
   "source": [
    "struct = md.load_pdb('gmx/mn_riboswitch.pdb')\n",
    "struct_nosolv = struct.remove_solvent()"
   ]
  },
  {
   "cell_type": "code",
   "execution_count": 5,
   "id": "shared-lloyd",
   "metadata": {},
   "outputs": [],
   "source": [
    "don = ft.cloud.Volume(struct_nosolv, '1-B-U1-O5\\'', labels)\n",
    "acc = ft.cloud.Volume(struct_nosolv, '1-A-A1-O5\\'', labels)"
   ]
  },
  {
   "cell_type": "markdown",
   "id": "provincial-louisiana",
   "metadata": {},
   "source": [
    "Compute a FRET trajectory from the ACVs"
   ]
  },
  {
   "cell_type": "code",
   "execution_count": 6,
   "id": "satellite-picture",
   "metadata": {},
   "outputs": [],
   "source": [
    "fret_traj = ft.cloud.FRET(don, acc, 'A1-U1', labels)"
   ]
  },
  {
   "cell_type": "code",
   "execution_count": 7,
   "id": "organic-receptor",
   "metadata": {},
   "outputs": [
    {
     "data": {
      "text/html": [
       "<div>\n",
       "<style scoped>\n",
       "    .dataframe tbody tr th:only-of-type {\n",
       "        vertical-align: middle;\n",
       "    }\n",
       "\n",
       "    .dataframe tbody tr th {\n",
       "        vertical-align: top;\n",
       "    }\n",
       "\n",
       "    .dataframe thead th {\n",
       "        text-align: right;\n",
       "    }\n",
       "</style>\n",
       "<table border=\"1\" class=\"dataframe\">\n",
       "  <thead>\n",
       "    <tr style=\"text-align: right;\">\n",
       "      <th></th>\n",
       "      <th>R0 (A)</th>\n",
       "      <th>&lt;R_DA&gt; (A)</th>\n",
       "      <th>&lt;E_DA&gt;</th>\n",
       "      <th>&lt;R_DA_E&gt; (A)</th>\n",
       "      <th>R_attach (A)</th>\n",
       "      <th>R_mp (A)</th>\n",
       "    </tr>\n",
       "  </thead>\n",
       "  <tbody>\n",
       "    <tr>\n",
       "      <th>value</th>\n",
       "      <td>54.0</td>\n",
       "      <td>96.1</td>\n",
       "      <td>0.04</td>\n",
       "      <td>91.8</td>\n",
       "      <td>86.6</td>\n",
       "      <td>94.4</td>\n",
       "    </tr>\n",
       "    <tr>\n",
       "      <th>std</th>\n",
       "      <td>NaN</td>\n",
       "      <td>10.7</td>\n",
       "      <td>0.03</td>\n",
       "      <td>13.0</td>\n",
       "      <td>NaN</td>\n",
       "      <td>NaN</td>\n",
       "    </tr>\n",
       "  </tbody>\n",
       "</table>\n",
       "</div>"
      ],
      "text/plain": [
       "       R0 (A)  <R_DA> (A)  <E_DA>  <R_DA_E> (A)  R_attach (A)  R_mp (A)\n",
       "value    54.0        96.1    0.04          91.8          86.6      94.4\n",
       "std       NaN        10.7    0.03          13.0           NaN       NaN"
      ]
     },
     "execution_count": 7,
     "metadata": {},
     "output_type": "execute_result"
    }
   ],
   "source": [
    "fret_traj.values"
   ]
  },
  {
   "cell_type": "markdown",
   "id": "modern-therapy",
   "metadata": {},
   "source": [
    "Create a Plumed object from the loaded structure and the ACVs. Look for neighboring phosphorus atoms within a range of 15 A."
   ]
  },
  {
   "cell_type": "code",
   "execution_count": 8,
   "id": "statistical-moisture",
   "metadata": {},
   "outputs": [],
   "source": [
    "plumed = ft.restraints.Plumed(struct_nosolv, [don, acc], selection='name P', cutoff=15)"
   ]
  },
  {
   "cell_type": "markdown",
   "id": "hidden-revision",
   "metadata": {},
   "source": [
    "Set your desired FRET value that you want the simulation converge to. The corresponding $\\langle R_{DA,E}\\rangle$ will be computed from the $\\langle E\\rangle$. The $\\langle R_{mp}\\rangle$ will be calculated from $\\langle E\\rangle$ using a third order polynomial (Kalinin et al., *Nat. Methods*, 2012)"
   ]
  },
  {
   "cell_type": "code",
   "execution_count": 9,
   "id": "future-seller",
   "metadata": {},
   "outputs": [],
   "source": [
    "targetFRET = 0.6\n",
    "mean_R_DA_E = ft.fret.mean_dist_DA_fromFRET(None,None,targetFRET,54)\n",
    "targetRmp = ft.fret.R_DAE_to_Rmp(mean_R_DA_E)"
   ]
  },
  {
   "cell_type": "markdown",
   "id": "peaceful-essex",
   "metadata": {},
   "source": [
    "Compile a plumed input file for the MD simulation"
   ]
  },
  {
   "cell_type": "code",
   "execution_count": 10,
   "id": "visible-gasoline",
   "metadata": {},
   "outputs": [
    {
     "ename": "FileNotFoundError",
     "evalue": "[Errno 2] No such file or directory: 'gmx/out/plumed_A1-U1.dat'",
     "output_type": "error",
     "traceback": [
      "\u001b[0;31m---------------------------------------------------------------------------\u001b[0m",
      "\u001b[0;31mFileNotFoundError\u001b[0m                         Traceback (most recent call last)",
      "\u001b[0;32m<ipython-input-10-4e13cd312cb2>\u001b[0m in \u001b[0;36m<module>\u001b[0;34m\u001b[0m\n\u001b[0;32m----> 1\u001b[0;31m \u001b[0mplumed\u001b[0m\u001b[0;34m.\u001b[0m\u001b[0mwrite_plumed\u001b[0m\u001b[0;34m(\u001b[0m\u001b[0;34m'gmx/out/plumed_A1-U1.dat'\u001b[0m\u001b[0;34m,\u001b[0m \u001b[0mtargetRmp\u001b[0m\u001b[0;34m,\u001b[0m \u001b[0;36m100\u001b[0m\u001b[0;34m,\u001b[0m \u001b[0;36m100\u001b[0m\u001b[0;34m)\u001b[0m\u001b[0;34m\u001b[0m\u001b[0;34m\u001b[0m\u001b[0m\n\u001b[0m",
      "\u001b[0;32m~/work/fretraj/fretraj/src/fretraj/restraints.py\u001b[0m in \u001b[0;36mwrite_plumed\u001b[0;34m(self, filename, R_mp, kappa_dist, Rmp_kappa)\u001b[0m\n\u001b[1;32m     87\u001b[0m             \u001b[0mplumed_str\u001b[0m \u001b[0;34m+=\u001b[0m \u001b[0;34m'Rmp: DISTANCE ATOMS=mp1,mp2 NOPBC\\n'\u001b[0m\u001b[0;34m\u001b[0m\u001b[0;34m\u001b[0m\u001b[0m\n\u001b[1;32m     88\u001b[0m             \u001b[0mplumed_str\u001b[0m \u001b[0;34m+=\u001b[0m \u001b[0;34m'RESTRAINT ARG=Rmp AT={:0.1f} KAPPA={}\\n'\u001b[0m\u001b[0;34m.\u001b[0m\u001b[0mformat\u001b[0m\u001b[0;34m(\u001b[0m\u001b[0mR_mp\u001b[0m \u001b[0;34m/\u001b[0m \u001b[0;36m10\u001b[0m\u001b[0;34m,\u001b[0m \u001b[0mRmp_kappa\u001b[0m\u001b[0;34m)\u001b[0m\u001b[0;34m\u001b[0m\u001b[0;34m\u001b[0m\u001b[0m\n\u001b[0;32m---> 89\u001b[0;31m             \u001b[0;32mwith\u001b[0m \u001b[0mopen\u001b[0m\u001b[0;34m(\u001b[0m\u001b[0mfilename\u001b[0m\u001b[0;34m,\u001b[0m \u001b[0;34m'w'\u001b[0m\u001b[0;34m)\u001b[0m \u001b[0;32mas\u001b[0m \u001b[0mf\u001b[0m\u001b[0;34m:\u001b[0m\u001b[0;34m\u001b[0m\u001b[0;34m\u001b[0m\u001b[0m\n\u001b[0m\u001b[1;32m     90\u001b[0m                 \u001b[0mf\u001b[0m\u001b[0;34m.\u001b[0m\u001b[0mwrite\u001b[0m\u001b[0;34m(\u001b[0m\u001b[0mplumed_str\u001b[0m\u001b[0;34m)\u001b[0m\u001b[0;34m\u001b[0m\u001b[0;34m\u001b[0m\u001b[0m\n\u001b[1;32m     91\u001b[0m             \u001b[0;32mreturn\u001b[0m \u001b[0;32mTrue\u001b[0m\u001b[0;34m\u001b[0m\u001b[0;34m\u001b[0m\u001b[0m\n",
      "\u001b[0;31mFileNotFoundError\u001b[0m: [Errno 2] No such file or directory: 'gmx/out/plumed_A1-U1.dat'"
     ]
    }
   ],
   "source": [
    "plumed.write_plumed('gmx/out/plumed_A1-U1.dat', targetRmp, 100, 100)"
   ]
  },
  {
   "cell_type": "markdown",
   "id": "electrical-chapter",
   "metadata": {},
   "source": [
    "To illustrate the restaints save a visualization skript for VMD or PyMOL which can be run with either `vmd_vis -c filename.gro -x trajectory.xtc -v vis.vmd` or `pymol_vis -c filename.gro -x trajectory.xtc -v vis.py`"
   ]
  },
  {
   "cell_type": "code",
   "execution_count": null,
   "id": "hired-senegal",
   "metadata": {},
   "outputs": [],
   "source": [
    "plumed.write_vmd('gmx/out/vis.vmd')"
   ]
  },
  {
   "cell_type": "code",
   "execution_count": null,
   "id": "absolute-association",
   "metadata": {},
   "outputs": [],
   "source": [
    "plumed.write_pymol('gmx/out/vis.py')"
   ]
  },
  {
   "cell_type": "markdown",
   "id": "damaged-retention",
   "metadata": {},
   "source": [
    "Save force field and topology files files of the mean position pseudoatoms"
   ]
  },
  {
   "cell_type": "code",
   "execution_count": null,
   "id": "inner-beast",
   "metadata": {},
   "outputs": [],
   "source": [
    "plumed.write_pseudo('gmx/out/MP.pdb', 'gmx/out/MP.itp')"
   ]
  },
  {
   "cell_type": "code",
   "execution_count": null,
   "id": "emotional-sunday",
   "metadata": {},
   "outputs": [],
   "source": [
    "don.save_mp('gmx/out/mn_riboswitch_D.dat', units='nm', format='plain')\n",
    "acc.save_mp('gmx/out/mn_riboswitch_A.dat', units='nm', format='plain')"
   ]
  },
  {
   "cell_type": "markdown",
   "id": "simplified-shakespeare",
   "metadata": {},
   "source": [
    "First, backup the original .gro file. Then, insert the mean position coordinates given in **MP.pdb** at positions specified by **riboswitch_D.dat** and **riboswitch_A.dat** \n",
    "\n",
    "```sh\n",
    "mv em/mn_riboswitch.gro em/mn_riboswitch_original.gro\n",
    "gmx insert-molecules -ci MP.pdb -f mn_riboswitch_original.gro -o mn_riboswitch.gro -ip out/mn_riboswitch_D.dat -replace water |& tee tmp_insert.dat\n",
    "gmx insert-molecules -ci MP.pdb -f mn_riboswitch.gro -o mn_riboswitch.gro -ip out/mn_riboswitch_A.dat -replace water |& tee -a tmp_insert.dat\n",
    "```\n",
    "\n",
    "Run the following command will tell you how many solvent molecules have been replaced by the MP pseudoatoms and how to update the topology. \n",
    "\n",
    "```\n",
    "awk '$1 == \"Replaced\" {sum += $2}; END {print \"\\nIn your topology.top file under the section [ molecules ] do the following:\\n(1) decrease the number of solvent molecules by \" sum \"\\n(2) add the following line:\\nMP        2\"}' tmp_insert.dat && rm tmp_insert.dat\n",
    "```"
   ]
  },
  {
   "cell_type": "markdown",
   "id": "approved-traveler",
   "metadata": {},
   "source": [
    "not needed\n",
    "```sh\n",
    "mkdir md0\n",
    "mdp_dir=mdp\n",
    "structureName=mn_riboswitch_s4_cleaned\n",
    "plumedFile=plumed_A1-U1.dat\n",
    "\n",
    "gmx grompp -f \"$mdp_dir\"/md0.mdp -c npt/\"$structureName\".gro -p \"$structureName\".top -o md0/\"$structureName\".tpr -po md0/\"$structureName\".mdp\n",
    "gmx mdrun -v -s md0/\"$structureName\".tpr -c md0/\"$structureName\".gro -x md0/\"$structureName\".xtc -cpo md0/\"$structureName\".cpt -e md0/\"$structureName\".edr -g md0/\"$structureName\".log -plumed \"$plumedFile\"\n",
    "```"
   ]
  },
  {
   "cell_type": "code",
   "execution_count": null,
   "id": "understood-dollar",
   "metadata": {},
   "outputs": [],
   "source": [
    "single_run"
   ]
  }
 ],
 "metadata": {
  "jupytext": {
   "formats": "ipynb,md:myst",
   "text_representation": {
    "extension": ".md",
    "format_name": "myst",
    "format_version": 0.13,
    "jupytext_version": "1.10.3"
   }
  },
  "kernelspec": {
   "display_name": "Python 3",
   "language": "python",
   "name": "python3"
  },
  "language_info": {
   "codemirror_mode": {
    "name": "ipython",
    "version": 3
   },
   "file_extension": ".py",
   "mimetype": "text/x-python",
   "name": "python",
   "nbconvert_exporter": "python",
   "pygments_lexer": "ipython3",
   "version": "3.8.12"
  },
  "source_map": [
   13,
   17,
   25,
   27,
   34,
   38,
   43,
   46,
   50,
   54,
   56,
   60,
   62,
   66,
   70,
   74,
   76,
   80,
   84,
   86,
   90,
   94,
   97,
   113,
   126
  ]
 },
 "nbformat": 4,
 "nbformat_minor": 5
}
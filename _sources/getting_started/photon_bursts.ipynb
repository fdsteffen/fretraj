{
 "cells": [
  {
   "cell_type": "markdown",
   "id": "spare-horizon",
   "metadata": {},
   "source": [
    "# Generating photon bursts\n",
    "\n",
    "*FRETraj* predicts mean FRET efficiencies and distributions thereof for dynamic biomolecules as outlined in the\n",
    "previous sections. FRET histograms of single-molecule experiments are often broadened due to shot-noise. \n",
    "For better comparison of *in vitro* and *in silico* FRET measurements, *FRETraj* can take the **photon noise** into account by simulating fluorescence emission events. The probabilities of donor and acceptor emission are dependent on the quantum yields and fluroescence lifetimes of the dyes as well as the transfer efficiency and thus the distance between their ACVs {cite}`Hoefling.2011, Hoefling.2013`.\n",
    "This notebook show how to simulate **photon bursts** similar to a confocal single-molecule experiment."
   ]
  },
  {
   "cell_type": "code",
   "execution_count": 1,
   "id": "hollywood-survey",
   "metadata": {},
   "outputs": [
    {
     "name": "stdout",
     "output_type": "stream",
     "text": [
      "\n",
      "Note: the LabelLib module is not installed. \n",
      "ACV calculations will use a Python-only algorithm\n",
      "\n"
     ]
    },
    {
     "data": {
      "application/vnd.jupyter.widget-view+json": {
       "model_id": "0291102e9ca048be9f568c15667f2515",
       "version_major": 2,
       "version_minor": 0
      },
      "text/plain": []
     },
     "metadata": {},
     "output_type": "display_data"
    }
   ],
   "source": [
    "import fretraj as ft\n",
    "import pandas as pd\n",
    "from matplotlib import pyplot as plt\n",
    "import seaborn as sns\n",
    "import os"
   ]
  },
  {
   "cell_type": "markdown",
   "id": "incorporated-audience",
   "metadata": {},
   "source": [
    "First, we load a parameter file for the burst simulation. The format of this file is described [here](../background/parameter_file.html#burst-simulation)"
   ]
  },
  {
   "cell_type": "code",
   "execution_count": 2,
   "id": "subjective-accused",
   "metadata": {
    "tags": [
     "hide-output"
    ]
   },
   "outputs": [
    {
     "data": {
      "text/plain": [
       "{'dyes': {'tauD': 1,\n",
       "  'tauA': 1.4,\n",
       "  'QD': 0.2,\n",
       "  'QA': 0.2,\n",
       "  'dipole_angle_abs_em': 10},\n",
       " 'sampling': {'nbursts': 5000,\n",
       "  'skipframesatstart': 0,\n",
       "  'skipframesatend': 1000,\n",
       "  'multiprocessing': True},\n",
       " 'fret': {'R0': 5.4,\n",
       "  'kappasquare': 0.6666,\n",
       "  'no_gamma': False,\n",
       "  'quenching_radius': 1},\n",
       " 'species': {'name': ['all'],\n",
       "  'unix_pattern_rkappa': ['R_kappa.dat'],\n",
       "  'probability': [1],\n",
       "  'n_trajectory_splits': None},\n",
       " 'bursts': {'lower_limit': 15,\n",
       "  'upper_limit': 150,\n",
       "  'lambda': -2.3,\n",
       "  'averaging': 'all',\n",
       "  'QY_correction': False,\n",
       "  'burst_size_file': None}}"
      ]
     },
     "execution_count": 2,
     "metadata": {},
     "output_type": "execute_result"
    }
   ],
   "source": [
    "parameters = ft.burst.readParameters('burst_data/burst_parameters.json')\n",
    "parameters"
   ]
  },
  {
   "cell_type": "markdown",
   "id": "adjacent-tracker",
   "metadata": {},
   "source": [
    "Importantly, key `species.unix_pattern_rkappa` in the parameter file points to any file matching the given regular expression. Here, the file `R_kappa.dat` is created from a `ft.cloud.Trajectory` object (see [Working with Trajectories](trajectories.md)) and contains inter-dye distance $R_\\text{DA}$(t) and $\\kappa^2$ values."
   ]
  },
  {
   "cell_type": "code",
   "execution_count": 3,
   "id": "narrative-demonstration",
   "metadata": {
    "hide-input": null
   },
   "outputs": [
    {
     "data": {
      "text/html": [
       "<div>\n",
       "<style scoped>\n",
       "    .dataframe tbody tr th:only-of-type {\n",
       "        vertical-align: middle;\n",
       "    }\n",
       "\n",
       "    .dataframe tbody tr th {\n",
       "        vertical-align: top;\n",
       "    }\n",
       "\n",
       "    .dataframe thead th {\n",
       "        text-align: right;\n",
       "    }\n",
       "</style>\n",
       "<table border=\"1\" class=\"dataframe\">\n",
       "  <thead>\n",
       "    <tr style=\"text-align: right;\">\n",
       "      <th></th>\n",
       "      <th>R_DA (nm)</th>\n",
       "      <th>kappasquare</th>\n",
       "    </tr>\n",
       "  </thead>\n",
       "  <tbody>\n",
       "    <tr>\n",
       "      <th>0.0</th>\n",
       "      <td>5.09</td>\n",
       "      <td>0.66</td>\n",
       "    </tr>\n",
       "    <tr>\n",
       "      <th>100.0</th>\n",
       "      <td>5.12</td>\n",
       "      <td>0.66</td>\n",
       "    </tr>\n",
       "    <tr>\n",
       "      <th>200.0</th>\n",
       "      <td>5.16</td>\n",
       "      <td>0.66</td>\n",
       "    </tr>\n",
       "    <tr>\n",
       "      <th>300.0</th>\n",
       "      <td>5.11</td>\n",
       "      <td>0.66</td>\n",
       "    </tr>\n",
       "    <tr>\n",
       "      <th>400.0</th>\n",
       "      <td>5.38</td>\n",
       "      <td>0.66</td>\n",
       "    </tr>\n",
       "  </tbody>\n",
       "</table>\n",
       "</div>"
      ],
      "text/plain": [
       "       R_DA (nm)  kappasquare\n",
       "0.0         5.09         0.66\n",
       "100.0       5.12         0.66\n",
       "200.0       5.16         0.66\n",
       "300.0       5.11         0.66\n",
       "400.0       5.38         0.66"
      ]
     },
     "execution_count": 3,
     "metadata": {},
     "output_type": "execute_result"
    }
   ],
   "source": [
    "pd.read_csv('burst_data/R_kappa.dat', sep='\\t', names=['R_DA (nm)', 'kappasquare']).head()"
   ]
  },
  {
   "cell_type": "markdown",
   "id": "robust-journalist",
   "metadata": {},
   "source": [
    "An analytical burst size distribution $P(x)$ is specified as a power law with a coefficient $\\lambda$\n",
    "\n",
    "$$P(x) = x^\\lambda$$ \n",
    "\n",
    "Here we set the expoenent to $\\lambda=-2.3$. We can now start a burst experiment."
   ]
  },
  {
   "cell_type": "code",
   "execution_count": 4,
   "id": "turned-principle",
   "metadata": {},
   "outputs": [
    {
     "name": "stdout",
     "output_type": "stream",
     "text": [
      "Loading files...\n",
      "Orientation independent R0_const = 5.8 A\n",
      "\n",
      "              donor    acceptor\n",
      "QY            0.20    0.20\n",
      "tau (ns)      1.00    1.40\n",
      "k_f (ns^-1)   0.20    0.14\n",
      "k_ic (ns^-1)  0.80    0.57\n",
      "              \n",
      "Burst averaging method: all\n",
      "Calculate anisotropy: no\n",
      "\n"
     ]
    },
    {
     "data": {
      "application/vnd.jupyter.widget-view+json": {
       "model_id": "143f07644ffb452ea7367b10be48faf1",
       "version_major": 2,
       "version_minor": 0
      },
      "text/plain": [
       "Calculating bursts:   0%|          | 0/5000 [? s]"
      ]
     },
     "metadata": {},
     "output_type": "display_data"
    },
    {
     "name": "stdout",
     "output_type": "stream",
     "text": [
      "Combining burst...\n"
     ]
    },
    {
     "name": "stdout",
     "output_type": "stream",
     "text": [
      "\n",
      "\n",
      "average FRET efficiency: 0.56 +- 0.10\n",
      "\n"
     ]
    }
   ],
   "source": [
    "experiment = ft.burst.Experiment('burst_data/', parameters)"
   ]
  },
  {
   "cell_type": "markdown",
   "id": "touched-phenomenon",
   "metadata": {},
   "source": [
    "The resulting FRET histogram is broadened by shot-noise."
   ]
  },
  {
   "cell_type": "code",
   "execution_count": 5,
   "id": "blind-broadway",
   "metadata": {
    "tags": [
     "remove-cell"
    ]
   },
   "outputs": [],
   "source": [
    "sns.set_style('white')\n",
    "sns.set_context('notebook')\n",
    "\n",
    "def set_ticksStyle(x_size=4, y_size=4, x_dir='in', y_dir='in'):\n",
    "    sns.set_style('ticks', {'xtick.major.size': x_size, 'ytick.major.size': y_size, 'xtick.direction': x_dir, 'ytick.direction': y_dir})"
   ]
  },
  {
   "cell_type": "code",
   "execution_count": 6,
   "id": "based-monitor",
   "metadata": {},
   "outputs": [
    {
     "data": {
      "image/png": "[encoded data removed]",
      "text/plain": [
       "<Figure size 216x144 with 1 Axes>"
      ]
     },
     "metadata": {
      "filenames": {
       "image/png": "/home/runner/work/fretraj/fretraj/docs/_build/jupyter_execute/getting_started/photon_bursts_10_0.png"
      }
     },
     "output_type": "display_data"
    }
   ],
   "source": [
    "with sns.axes_style('ticks'):\n",
    "    set_ticksStyle()\n",
    "    f, ax=plt.subplots(nrows=1, ncols=1, figsize=(3, 2), sharex=True, sharey=True, squeeze=False)\n",
    "    ax[0, 0].hist(experiment.FRETefficiencies, bins=25, range=[0, 1], color=[0.75, 0.51, 0.38])\n",
    "    ax[0, 0].set_xlabel('FRET')\n",
    "    ax[0, 0].set_ylabel('occurence')"
   ]
  },
  {
   "cell_type": "markdown",
   "id": "labeled-consultation",
   "metadata": {},
   "source": [
    "Launch **Binder** 🚀 to interact with this notebook."
   ]
  }
 ],
 "metadata": {
  "jupytext": {
   "formats": "ipynb,md:myst",
   "text_representation": {
    "extension": ".md",
    "format_name": "myst",
    "format_version": 0.13,
    "jupytext_version": "1.10.3"
   }
  },
  "kernelspec": {
   "display_name": "Python 3",
   "language": "python",
   "name": "python3"
  },
  "language_info": {
   "codemirror_mode": {
    "name": "ipython",
    "version": 3
   },
   "file_extension": ".py",
   "mimetype": "text/x-python",
   "name": "python",
   "nbconvert_exporter": "python",
   "pygments_lexer": "ipython3",
   "version": "3.8.8"
  },
  "source_map": [
   13,
   22,
   28,
   32,
   37,
   41,
   45,
   53,
   55,
   59,
   69,
   76
  ],
  "widgets": {
   "application/vnd.jupyter.widget-state+json": {
    "state": {
     "0213f849e1414cf38ff7ee2c1c8e64e4": {
      "model_module": "@jupyter-widgets/controls",
      "model_module_version": "1.5.0",
      "model_name": "ProgressStyleModel",
      "state": {
       "_model_module": "@jupyter-widgets/controls",
       "_model_module_version": "1.5.0",
       "_model_name": "ProgressStyleModel",
       "_view_count": null,
       "_view_module": "@jupyter-widgets/base",
       "_view_module_version": "1.2.0",
       "_view_name": "StyleView",
       "bar_color": null,
       "description_width": ""
      }
     },
     "0291102e9ca048be9f568c15667f2515": {
      "model_module": "nglview-js-widgets",
      "model_module_version": "2.7.7",
      "model_name": "ColormakerRegistryModel",
      "state": {
       "_dom_classes": [],
       "_model_module": "nglview-js-widgets",
       "_model_module_version": "2.7.7",
       "_model_name": "ColormakerRegistryModel",
       "_msg_ar": [],
       "_msg_q": [],
       "_ready": false,
       "_view_count": null,
       "_view_module": "nglview-js-widgets",
       "_view_module_version": "2.7.7",
       "_view_name": "ColormakerRegistryView",
       "layout": "IPY_MODEL_e9136411cd194b87934be0a5ec42c324"
      }
     },
     "0644a1e18aa54ac9b109a77dfb0d23cd": {
      "model_module": "@jupyter-widgets/controls",
      "model_module_version": "1.5.0",
      "model_name": "DescriptionStyleModel",
      "state": {
       "_model_module": "@jupyter-widgets/controls",
       "_model_module_version": "1.5.0",
       "_model_name": "DescriptionStyleModel",
       "_view_count": null,
       "_view_module": "@jupyter-widgets/base",
       "_view_module_version": "1.2.0",
       "_view_name": "StyleView",
       "description_width": ""
      }
     },
     "143f07644ffb452ea7367b10be48faf1": {
      "model_module": "@jupyter-widgets/controls",
      "model_module_version": "1.5.0",
      "model_name": "HBoxModel",
      "state": {
       "_dom_classes": [],
       "_model_module": "@jupyter-widgets/controls",
       "_model_module_version": "1.5.0",
       "_model_name": "HBoxModel",
       "_view_count": null,
       "_view_module": "@jupyter-widgets/controls",
       "_view_module_version": "1.5.0",
       "_view_name": "HBoxView",
       "box_style": "",
       "children": [
        "IPY_MODEL_5d2de83ffe654166aac7910e42ed9130",
        "IPY_MODEL_d4c06deecd05492ab00e0ac12532868f",
        "IPY_MODEL_523fbd2cc45a487f91576f037be80578"
       ],
       "layout": "IPY_MODEL_611c1ed1e32343979e4e58585ef289aa"
      }
     },
     "523fbd2cc45a487f91576f037be80578": {
      "model_module": "@jupyter-widgets/controls",
      "model_module_version": "1.5.0",
      "model_name": "HTMLModel",
      "state": {
       "_dom_classes": [],
       "_model_module": "@jupyter-widgets/controls",
       "_model_module_version": "1.5.0",
       "_model_name": "HTMLModel",
       "_view_count": null,
       "_view_module": "@jupyter-widgets/controls",
       "_view_module_version": "1.5.0",
       "_view_name": "HTMLView",
       "description": "",
       "description_tooltip": null,
       "layout": "IPY_MODEL_c652db8a03b048f1acb5b49861cdafe4",
       "placeholder": "​",
       "style": "IPY_MODEL_e5d0a51910094548833f6ed3e47107fc",
       "value": " 5000/5000 [00:00 s]"
      }
     },
     "5d2de83ffe654166aac7910e42ed9130": {
      "model_module": "@jupyter-widgets/controls",
      "model_module_version": "1.5.0",
      "model_name": "HTMLModel",
      "state": {
       "_dom_classes": [],
       "_model_module": "@jupyter-widgets/controls",
       "_model_module_version": "1.5.0",
       "_model_name": "HTMLModel",
       "_view_count": null,
       "_view_module": "@jupyter-widgets/controls",
       "_view_module_version": "1.5.0",
       "_view_name": "HTMLView",
       "description": "",
       "description_tooltip": null,
       "layout": "IPY_MODEL_e1b50a759ded49b399977171823f3a01",
       "placeholder": "​",
       "style": "IPY_MODEL_0644a1e18aa54ac9b109a77dfb0d23cd",
       "value": "Calculating bursts: 100%"
      }
     },
     "611c1ed1e32343979e4e58585ef289aa": {
      "model_module": "@jupyter-widgets/base",
      "model_module_version": "1.2.0",
      "model_name": "LayoutModel",
      "state": {
       "_model_module": "@jupyter-widgets/base",
       "_model_module_version": "1.2.0",
       "_model_name": "LayoutModel",
       "_view_count": null,
       "_view_module": "@jupyter-widgets/base",
       "_view_module_version": "1.2.0",
       "_view_name": "LayoutView",
       "align_content": null,
       "align_items": null,
       "align_self": null,
       "border": null,
       "bottom": null,
       "display": null,
       "flex": null,
       "flex_flow": null,
       "grid_area": null,
       "grid_auto_columns": null,
       "grid_auto_flow": null,
       "grid_auto_rows": null,
       "grid_column": null,
       "grid_gap": null,
       "grid_row": null,
       "grid_template_areas": null,
       "grid_template_columns": null,
       "grid_template_rows": null,
       "height": null,
       "justify_content": null,
       "justify_items": null,
       "left": null,
       "margin": null,
       "max_height": null,
       "max_width": null,
       "min_height": null,
       "min_width": null,
       "object_fit": null,
       "object_position": null,
       "order": null,
       "overflow": null,
       "overflow_x": null,
       "overflow_y": null,
       "padding": null,
       "right": null,
       "top": null,
       "visibility": null,
       "width": null
      }
     },
     "6dfcddf4168547a591b1796967f14f1d": {
      "model_module": "@jupyter-widgets/base",
      "model_module_version": "1.2.0",
      "model_name": "LayoutModel",
      "state": {
       "_model_module": "@jupyter-widgets/base",
       "_model_module_version": "1.2.0",
       "_model_name": "LayoutModel",
       "_view_count": null,
       "_view_module": "@jupyter-widgets/base",
       "_view_module_version": "1.2.0",
       "_view_name": "LayoutView",
       "align_content": null,
       "align_items": null,
       "align_self": null,
       "border": null,
       "bottom": null,
       "display": null,
       "flex": null,
       "flex_flow": null,
       "grid_area": null,
       "grid_auto_columns": null,
       "grid_auto_flow": null,
       "grid_auto_rows": null,
       "grid_column": null,
       "grid_gap": null,
       "grid_row": null,
       "grid_template_areas": null,
       "grid_template_columns": null,
       "grid_template_rows": null,
       "height": null,
       "justify_content": null,
       "justify_items": null,
       "left": null,
       "margin": null,
       "max_height": null,
       "max_width": null,
       "min_height": null,
       "min_width": null,
       "object_fit": null,
       "object_position": null,
       "order": null,
       "overflow": null,
       "overflow_x": null,
       "overflow_y": null,
       "padding": null,
       "right": null,
       "top": null,
       "visibility": null,
       "width": null
      }
     },
     "c652db8a03b048f1acb5b49861cdafe4": {
      "model_module": "@jupyter-widgets/base",
      "model_module_version": "1.2.0",
      "model_name": "LayoutModel",
      "state": {
       "_model_module": "@jupyter-widgets/base",
       "_model_module_version": "1.2.0",
       "_model_name": "LayoutModel",
       "_view_count": null,
       "_view_module": "@jupyter-widgets/base",
       "_view_module_version": "1.2.0",
       "_view_name": "LayoutView",
       "align_content": null,
       "align_items": null,
       "align_self": null,
       "border": null,
       "bottom": null,
       "display": null,
       "flex": null,
       "flex_flow": null,
       "grid_area": null,
       "grid_auto_columns": null,
       "grid_auto_flow": null,
       "grid_auto_rows": null,
       "grid_column": null,
       "grid_gap": null,
       "grid_row": null,
       "grid_template_areas": null,
       "grid_template_columns": null,
       "grid_template_rows": null,
       "height": null,
       "justify_content": null,
       "justify_items": null,
       "left": null,
       "margin": null,
       "max_height": null,
       "max_width": null,
       "min_height": null,
       "min_width": null,
       "object_fit": null,
       "object_position": null,
       "order": null,
       "overflow": null,
       "overflow_x": null,
       "overflow_y": null,
       "padding": null,
       "right": null,
       "top": null,
       "visibility": null,
       "width": null
      }
     },
     "d4c06deecd05492ab00e0ac12532868f": {
      "model_module": "@jupyter-widgets/controls",
      "model_module_version": "1.5.0",
      "model_name": "FloatProgressModel",
      "state": {
       "_dom_classes": [],
       "_model_module": "@jupyter-widgets/controls",
       "_model_module_version": "1.5.0",
       "_model_name": "FloatProgressModel",
       "_view_count": null,
       "_view_module": "@jupyter-widgets/controls",
       "_view_module_version": "1.5.0",
       "_view_name": "ProgressView",
       "bar_style": "success",
       "description": "",
       "description_tooltip": null,
       "layout": "IPY_MODEL_6dfcddf4168547a591b1796967f14f1d",
       "max": 5000.0,
       "min": 0.0,
       "orientation": "horizontal",
       "style": "IPY_MODEL_0213f849e1414cf38ff7ee2c1c8e64e4",
       "value": 5000.0
      }
     },
     "e1b50a759ded49b399977171823f3a01": {
      "model_module": "@jupyter-widgets/base",
      "model_module_version": "1.2.0",
      "model_name": "LayoutModel",
      "state": {
       "_model_module": "@jupyter-widgets/base",
       "_model_module_version": "1.2.0",
       "_model_name": "LayoutModel",
       "_view_count": null,
       "_view_module": "@jupyter-widgets/base",
       "_view_module_version": "1.2.0",
       "_view_name": "LayoutView",
       "align_content": null,
       "align_items": null,
       "align_self": null,
       "border": null,
       "bottom": null,
       "display": null,
       "flex": null,
       "flex_flow": null,
       "grid_area": null,
       "grid_auto_columns": null,
       "grid_auto_flow": null,
       "grid_auto_rows": null,
       "grid_column": null,
       "grid_gap": null,
       "grid_row": null,
       "grid_template_areas": null,
       "grid_template_columns": null,
       "grid_template_rows": null,
       "height": null,
       "justify_content": null,
       "justify_items": null,
       "left": null,
       "margin": null,
       "max_height": null,
       "max_width": null,
       "min_height": null,
       "min_width": null,
       "object_fit": null,
       "object_position": null,
       "order": null,
       "overflow": null,
       "overflow_x": null,
       "overflow_y": null,
       "padding": null,
       "right": null,
       "top": null,
       "visibility": null,
       "width": null
      }
     },
     "e5d0a51910094548833f6ed3e47107fc": {
      "model_module": "@jupyter-widgets/controls",
      "model_module_version": "1.5.0",
      "model_name": "DescriptionStyleModel",
      "state": {
       "_model_module": "@jupyter-widgets/controls",
       "_model_module_version": "1.5.0",
       "_model_name": "DescriptionStyleModel",
       "_view_count": null,
       "_view_module": "@jupyter-widgets/base",
       "_view_module_version": "1.2.0",
       "_view_name": "StyleView",
       "description_width": ""
      }
     },
     "e9136411cd194b87934be0a5ec42c324": {
      "model_module": "@jupyter-widgets/base",
      "model_module_version": "1.2.0",
      "model_name": "LayoutModel",
      "state": {
       "_model_module": "@jupyter-widgets/base",
       "_model_module_version": "1.2.0",
       "_model_name": "LayoutModel",
       "_view_count": null,
       "_view_module": "@jupyter-widgets/base",
       "_view_module_version": "1.2.0",
       "_view_name": "LayoutView",
       "align_content": null,
       "align_items": null,
       "align_self": null,
       "border": null,
       "bottom": null,
       "display": null,
       "flex": null,
       "flex_flow": null,
       "grid_area": null,
       "grid_auto_columns": null,
       "grid_auto_flow": null,
       "grid_auto_rows": null,
       "grid_column": null,
       "grid_gap": null,
       "grid_row": null,
       "grid_template_areas": null,
       "grid_template_columns": null,
       "grid_template_rows": null,
       "height": null,
       "justify_content": null,
       "justify_items": null,
       "left": null,
       "margin": null,
       "max_height": null,
       "max_width": null,
       "min_height": null,
       "min_width": null,
       "object_fit": null,
       "object_position": null,
       "order": null,
       "overflow": null,
       "overflow_x": null,
       "overflow_y": null,
       "padding": null,
       "right": null,
       "top": null,
       "visibility": null,
       "width": null
      }
     }
    },
    "version_major": 2,
    "version_minor": 0
   }
  }
 },
 "nbformat": 4,
 "nbformat_minor": 5
}
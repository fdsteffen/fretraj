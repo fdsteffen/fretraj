{
 "cells": [
  {
   "cell_type": "markdown",
   "id": "025e3ff0",
   "metadata": {},
   "source": [
    "# Generating photon bursts\n",
    "\n",
    "*FRETraj* predicts mean FRET efficiencies and distributions thereof for dynamic biomolecules as outlined in the\n",
    "previous sections. FRET histograms of single-molecule experiments are often broadened due to shot-noise. \n",
    "For better comparison of *in vitro* and *in silico* FRET measurements, *FRETraj* can take the **photon noise** into account by simulating fluorescence emission events. The probabilities of donor and acceptor emission are dependent on the quantum yields and fluroescence lifetimes of the dyes as well as the transfer efficiency and thus the distance between their ACVs {cite}`Hoefling.2011, Hoefling.2013`.\n",
    "This notebook show how to simulate **photon bursts** similar to a confocal single-molecule experiment."
   ]
  },
  {
   "cell_type": "code",
   "execution_count": 1,
   "id": "e11af234",
   "metadata": {},
   "outputs": [
    {
     "name": "stdout",
     "output_type": "stream",
     "text": [
      "\n",
      "Note: the LabelLib module is not installed. \n",
      "ACV calculations will use a Python-only algorithm\n",
      "\n"
     ]
    },
    {
     "data": {
      "application/vnd.jupyter.widget-view+json": {
       "model_id": "ac71c4ed23af41249cea932b059cfae1",
       "version_major": 2,
       "version_minor": 0
      },
      "text/plain": []
     },
     "metadata": {},
     "output_type": "display_data"
    },
    {
     "name": "stdout",
     "output_type": "stream",
     "text": [
      "The burst submodule could not be imported\n",
      "\n"
     ]
    }
   ],
   "source": [
    "import fretraj as ft\n",
    "import pandas as pd\n",
    "from matplotlib import pyplot as plt\n",
    "import seaborn as sns\n",
    "import os"
   ]
  },
  {
   "cell_type": "markdown",
   "id": "1c750f06",
   "metadata": {},
   "source": [
    "First, we load a parameter file for the burst simulation. The format of this file is described [here](../background/parameter_file.html#burst-simulation)"
   ]
  },
  {
   "cell_type": "code",
   "execution_count": 2,
   "id": "e8738515",
   "metadata": {
    "tags": [
     "hide-output"
    ]
   },
   "outputs": [
    {
     "ename": "AttributeError",
     "evalue": "module 'fretraj' has no attribute 'burst'",
     "output_type": "error",
     "traceback": [
      "\u001b[0;31m---------------------------------------------------------------------------\u001b[0m",
      "\u001b[0;31mAttributeError\u001b[0m                            Traceback (most recent call last)",
      "\u001b[0;32m<ipython-input-2-5a0d749f09d8>\u001b[0m in \u001b[0;36m<module>\u001b[0;34m\u001b[0m\n\u001b[0;32m----> 1\u001b[0;31m \u001b[0mparameters\u001b[0m \u001b[0;34m=\u001b[0m \u001b[0mft\u001b[0m\u001b[0;34m.\u001b[0m\u001b[0mburst\u001b[0m\u001b[0;34m.\u001b[0m\u001b[0mreadParameters\u001b[0m\u001b[0;34m(\u001b[0m\u001b[0;34m'burst_data/burst_parameters.json'\u001b[0m\u001b[0;34m)\u001b[0m\u001b[0;34m\u001b[0m\u001b[0;34m\u001b[0m\u001b[0m\n\u001b[0m\u001b[1;32m      2\u001b[0m \u001b[0mparameters\u001b[0m\u001b[0;34m\u001b[0m\u001b[0;34m\u001b[0m\u001b[0m\n",
      "\u001b[0;31mAttributeError\u001b[0m: module 'fretraj' has no attribute 'burst'"
     ]
    }
   ],
   "source": [
    "parameters = ft.burst.readParameters('burst_data/burst_parameters.json')\n",
    "parameters"
   ]
  },
  {
   "cell_type": "markdown",
   "id": "a2e94c57",
   "metadata": {},
   "source": [
    "Importantly, key `species.unix_pattern_rkappa` in the parameter file points to any file matching the given regular expression. Here, the file `R_kappa.dat` is created from a `ft.cloud.Trajectory` object (see [Working with Trajectories](trajectories.md)) and contains inter-dye distance $R_\\text{DA}$(t) and $\\kappa^2$ values."
   ]
  },
  {
   "cell_type": "code",
   "execution_count": null,
   "id": "72a8637a",
   "metadata": {
    "hide-input": null
   },
   "outputs": [],
   "source": [
    "pd.read_csv('burst_data/R_kappa.dat', sep='\\t', names=['R_DA (nm)', 'kappasquare']).head()"
   ]
  },
  {
   "cell_type": "markdown",
   "id": "1344ae60",
   "metadata": {},
   "source": [
    "An analytical burst size distribution $P(x)$ is specified as a power law with a coefficient $\\lambda$\n",
    "\n",
    "$$P(x) = x^\\lambda$$ \n",
    "\n",
    "Here we set the expoenent to $\\lambda=-2.3$. We can now start a burst experiment."
   ]
  },
  {
   "cell_type": "code",
   "execution_count": null,
   "id": "d7e91931",
   "metadata": {},
   "outputs": [],
   "source": [
    "experiment = ft.burst.Experiment('burst_data/', parameters)"
   ]
  },
  {
   "cell_type": "markdown",
   "id": "46e88f24",
   "metadata": {},
   "source": [
    "The resulting FRET histogram is broadened by shot-noise."
   ]
  },
  {
   "cell_type": "code",
   "execution_count": null,
   "id": "05b13b76",
   "metadata": {
    "tags": [
     "remove-cell"
    ]
   },
   "outputs": [],
   "source": [
    "sns.set_style('white')\n",
    "sns.set_context('notebook')\n",
    "\n",
    "def set_ticksStyle(x_size=4, y_size=4, x_dir='in', y_dir='in'):\n",
    "    sns.set_style('ticks', {'xtick.major.size': x_size, 'ytick.major.size': y_size, 'xtick.direction': x_dir, 'ytick.direction': y_dir})"
   ]
  },
  {
   "cell_type": "code",
   "execution_count": null,
   "id": "31dd713e",
   "metadata": {},
   "outputs": [],
   "source": [
    "with sns.axes_style('ticks'):\n",
    "    set_ticksStyle()\n",
    "    f, ax=plt.subplots(nrows=1, ncols=1, figsize=(3, 2), sharex=True, sharey=True, squeeze=False)\n",
    "    ax[0, 0].hist(experiment.FRETefficiencies, bins=25, range=[0, 1], color=[0.75, 0.51, 0.38])\n",
    "    ax[0, 0].set_xlabel('FRET')\n",
    "    ax[0, 0].set_ylabel('occurence')"
   ]
  },
  {
   "cell_type": "markdown",
   "id": "1990a8cb",
   "metadata": {},
   "source": [
    "Launch **Binder** 🚀 to interact with this notebook."
   ]
  }
 ],
 "metadata": {
  "jupytext": {
   "formats": "ipynb,md:myst",
   "text_representation": {
    "extension": ".md",
    "format_name": "myst",
    "format_version": 0.13,
    "jupytext_version": "1.10.3"
   }
  },
  "kernelspec": {
   "display_name": "Python 3",
   "language": "python",
   "name": "python3"
  },
  "language_info": {
   "codemirror_mode": {
    "name": "ipython",
    "version": 3
   },
   "file_extension": ".py",
   "mimetype": "text/x-python",
   "name": "python",
   "nbconvert_exporter": "python",
   "pygments_lexer": "ipython3",
   "version": "3.9.6"
  },
  "source_map": [
   13,
   22,
   28,
   32,
   37,
   41,
   45,
   53,
   55,
   59,
   69,
   76
  ]
 },
 "nbformat": 4,
 "nbformat_minor": 5
}
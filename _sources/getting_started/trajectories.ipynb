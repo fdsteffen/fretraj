{
 "cells": [
  {
   "cell_type": "markdown",
   "id": "2eaf8096",
   "metadata": {},
   "source": [
    "# Working with trajectories\n",
    "\n",
    "Running *FRETraj* with Jupyter has the advantage that we can easily work with\n",
    "trajectories and other **multi-model structures**. As we saw in the previous \n",
    "notebook, *FRETraj* uses `mdtraj` to load single and multi-frame objects. \n",
    "For demonstrative purposes, we work here with an extract of an MD trajectory \n",
    "from our DNA hairpin. A more detailed notebook with the full trajectory is \n",
    "available at [here](https://github.com/RNA-FRETools/FRETraj-demo)."
   ]
  },
  {
   "cell_type": "code",
   "execution_count": 1,
   "id": "7ad2df41",
   "metadata": {},
   "outputs": [
    {
     "ename": "ModuleNotFoundError",
     "evalue": "No module named 'fretraj'",
     "output_type": "error",
     "traceback": [
      "\u001b[0;31m---------------------------------------------------------------------------\u001b[0m",
      "\u001b[0;31mModuleNotFoundError\u001b[0m                       Traceback (most recent call last)",
      "\u001b[0;32m<ipython-input-1-e7c4e56a9e5f>\u001b[0m in \u001b[0;36m<module>\u001b[0;34m\u001b[0m\n\u001b[1;32m      1\u001b[0m \u001b[0;32mimport\u001b[0m \u001b[0mmdtraj\u001b[0m \u001b[0;32mas\u001b[0m \u001b[0mmd\u001b[0m\u001b[0;34m\u001b[0m\u001b[0;34m\u001b[0m\u001b[0m\n\u001b[0;32m----> 2\u001b[0;31m \u001b[0;32mimport\u001b[0m \u001b[0mfretraj\u001b[0m \u001b[0;32mas\u001b[0m \u001b[0mft\u001b[0m\u001b[0;34m\u001b[0m\u001b[0;34m\u001b[0m\u001b[0m\n\u001b[0m\u001b[1;32m      3\u001b[0m \u001b[0;32mfrom\u001b[0m \u001b[0mmatplotlib\u001b[0m \u001b[0;32mimport\u001b[0m \u001b[0mpyplot\u001b[0m \u001b[0;32mas\u001b[0m \u001b[0mplt\u001b[0m\u001b[0;34m\u001b[0m\u001b[0;34m\u001b[0m\u001b[0m\n\u001b[1;32m      4\u001b[0m \u001b[0;32mimport\u001b[0m \u001b[0mseaborn\u001b[0m \u001b[0;32mas\u001b[0m \u001b[0msns\u001b[0m\u001b[0;34m\u001b[0m\u001b[0;34m\u001b[0m\u001b[0m\n\u001b[1;32m      5\u001b[0m \u001b[0;32mimport\u001b[0m \u001b[0mos\u001b[0m\u001b[0;34m\u001b[0m\u001b[0;34m\u001b[0m\u001b[0m\n",
      "\u001b[0;31mModuleNotFoundError\u001b[0m: No module named 'fretraj'"
     ]
    }
   ],
   "source": [
    "import mdtraj as md\n",
    "import fretraj as ft\n",
    "from matplotlib import pyplot as plt\n",
    "import seaborn as sns\n",
    "import os\n",
    "example_dir = '../../src/fretraj/examples/'"
   ]
  },
  {
   "cell_type": "markdown",
   "id": "2f46ff3a",
   "metadata": {},
   "source": [
    "First, we load multiple snapshots of the DNA hairpin from a 1$\\,\\mu$s MD trajectory as well as the associated labeling parameters."
   ]
  },
  {
   "cell_type": "code",
   "execution_count": null,
   "id": "89a755bd",
   "metadata": {},
   "outputs": [],
   "source": [
    "traj = md.load(os.path.join(example_dir+'DNA_hairpin.xtc'), \n",
    "               top=os.path.join(example_dir+'DNA_hairpin.pdb'),\n",
    "               stride=10)\n",
    "labels = ft.cloud.labeling_params(os.path.join(example_dir+'DNA_hairpin_labels.json'), verbose=False)\n",
    "print(f'timestep: {traj.timestep/1000 :.0f} ns')\n",
    "print(f'length: {traj.time[-1]/1000 :.0f} ns')"
   ]
  },
  {
   "cell_type": "markdown",
   "id": "7279eb78",
   "metadata": {},
   "source": [
    "Next, we calculate ACVs along the trajectory (here every 100 ns, for simplicity)."
   ]
  },
  {
   "cell_type": "code",
   "execution_count": null,
   "id": "345a83bb",
   "metadata": {
    "tags": [
     "remove-output"
    ]
   },
   "outputs": [],
   "source": [
    "frames = range(int(traj.n_frames/2))\n",
    "acv_D = ft.cloud.Volume.from_frames(traj, 'Cy3-20-C5', labels, frames)\n",
    "acv_A = ft.cloud.Volume.from_frames(traj, 'Cy5-44-P1', labels, frames)"
   ]
  },
  {
   "cell_type": "markdown",
   "id": "85098d13",
   "metadata": {},
   "source": [
    "Likewise, we compute a mean FRET efficiency per snapshot and combine them into a FRET trajectory."
   ]
  },
  {
   "cell_type": "code",
   "execution_count": null,
   "id": "21313e48",
   "metadata": {
    "tags": [
     "remove-output"
    ]
   },
   "outputs": [],
   "source": [
    "fret = ft.cloud.FRET.from_volumes(acv_D, acv_A, 'Cy3-Cy5', labels)\n",
    "fret_traj = ft.cloud.Trajectory(fret, timestep=traj.timestep)"
   ]
  },
  {
   "cell_type": "code",
   "execution_count": null,
   "id": "19bb529f",
   "metadata": {},
   "outputs": [],
   "source": [
    "fret_traj.dataframe"
   ]
  },
  {
   "cell_type": "code",
   "execution_count": null,
   "id": "a4f0c5ca",
   "metadata": {
    "tags": [
     "remove-cell"
    ]
   },
   "outputs": [],
   "source": [
    "sns.set_style('white')\n",
    "sns.set_context('notebook')\n",
    "sns.set(font='Arial')\n",
    "\n",
    "def set_ticksStyle(x_size=4, y_size=4, x_dir='in', y_dir='in'):\n",
    "    sns.set_style('ticks', {'xtick.major.size': x_size, 'ytick.major.size': y_size, 'xtick.direction': x_dir, 'ytick.direction': y_dir})"
   ]
  },
  {
   "cell_type": "markdown",
   "id": "ff7b81c5",
   "metadata": {},
   "source": [
    "Launch **Binder** 🚀 to visualize the multi-ACV trajectory."
   ]
  },
  {
   "cell_type": "code",
   "execution_count": null,
   "id": "3c478f04",
   "metadata": {
    "tags": [
     "remove-output"
    ]
   },
   "outputs": [],
   "source": [
    "acv_D_traj = ft.cloud.create_acv_traj(acv_D)\n",
    "acv_A_traj = ft.cloud.create_acv_traj(acv_A)\n",
    "ft.jupyter.nglview_trajectory_ACV(traj, acv_D_traj['FV'], acv_A_traj['FV'], acv_D_traj['CV'], acv_A_traj['CV'])"
   ]
  }
 ],
 "metadata": {
  "jupytext": {
   "formats": "ipynb,md:myst",
   "text_representation": {
    "extension": ".md",
    "format_name": "myst",
    "format_version": 0.13,
    "jupytext_version": "1.10.3"
   }
  },
  "kernelspec": {
   "display_name": "Python 3",
   "language": "python",
   "name": "python3"
  },
  "language_info": {
   "codemirror_mode": {
    "name": "ipython",
    "version": 3
   },
   "file_extension": ".py",
   "mimetype": "text/x-python",
   "name": "python",
   "nbconvert_exporter": "python",
   "pygments_lexer": "ipython3",
   "version": "3.9.6"
  },
  "source_map": [
   13,
   24,
   31,
   35,
   42,
   46,
   52,
   56,
   63,
   68,
   77,
   81
  ]
 },
 "nbformat": 4,
 "nbformat_minor": 5
}